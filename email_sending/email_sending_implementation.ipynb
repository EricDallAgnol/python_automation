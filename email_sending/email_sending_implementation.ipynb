{
 "cells": [
  {
   "cell_type": "markdown",
   "id": "05c18ba5-56e0-4b77-b0c2-07e7a614a336",
   "metadata": {},
   "source": [
    "# Python Automation - Sending Emails - Gmail Example"
   ]
  },
  {
   "cell_type": "code",
   "execution_count": null,
   "id": "60816d17-84cb-4590-99b4-268ad7a1a945",
   "metadata": {},
   "outputs": [],
   "source": [
    "import smtplib\n",
    "import csv"
   ]
  },
  {
   "cell_type": "code",
   "execution_count": null,
   "id": "b64923a0-8379-4c15-a9d5-d17054a2abf0",
   "metadata": {},
   "outputs": [],
   "source": [
    "# Credentials\n",
    "my_email = \"example_medium@gmail.com\"\n",
    "gmail_app_password = \"this is my app password\""
   ]
  },
  {
   "cell_type": "code",
   "execution_count": null,
   "id": "10079c10-1ec4-4afb-8dcb-cb2e40ba3628",
   "metadata": {},
   "outputs": [],
   "source": [
    "# Set SMTP Server\n",
    "smtp_server = \"smtp.gmail.com\"\n",
    "smtp_port = 587"
   ]
  },
  {
   "cell_type": "code",
   "execution_count": null,
   "id": "aec9147e-29d2-4c41-a229-5ab37a854881",
   "metadata": {},
   "outputs": [],
   "source": [
    "# Start the connection\n",
    "mail_server = smtplib.SMTP(smtp_server, smtp_port)\n",
    "mail_server.ehlo()\n",
    "mail_server.starttls()"
   ]
  },
  {
   "cell_type": "code",
   "execution_count": null,
   "id": "c1690465-006a-4c07-8c86-1f89751b5068",
   "metadata": {},
   "outputs": [],
   "source": [
    "# Loging\n",
    "mail_server.login(my_email, password)"
   ]
  },
  {
   "cell_type": "code",
   "execution_count": null,
   "id": "e4e5d667-9058-49bb-af17-6610f038a787",
   "metadata": {},
   "outputs": [],
   "source": [
    "# Parse CSV with recipients and send email\n",
    "with open('contacts.csv') as file:\n",
    "  recipients = csv.reader(file)\n",
    "  # Skip header line\n",
    "  next(recipients)\n",
    "\n",
    "  for name, email in recipients:\n",
    "\n",
    "    # Create message\n",
    "    message = MIMEMultipart()\n",
    "    message['From'] = my_email\n",
    "    message['To'] = email\n",
    "    message['Subject'] = \"Special Offer: Don't Miss Out!\"\n",
    "\n",
    "    # HTML content of the email\n",
    "    html_content = f\"\"\"\n",
    "    <!DOCTYPE html>\n",
    "    <html lang=\"en\">\n",
    "    <head>\n",
    "    <meta charset=\"UTF-8\">\n",
    "    <meta name=\"viewport\" content=\"width=device-width, initial-scale=1.0\">\n",
    "    <title>Special Offer: Don't Miss Out!</title>\n",
    "    <style>\n",
    "      /* Add your styles here */\n",
    "      body {{\n",
    "        font-family: Arial, sans-serif;\n",
    "        margin: 0;\n",
    "        padding: 0;\n",
    "      }}\n",
    "      .container {{\n",
    "        max-width: 600px;\n",
    "        margin: 0 auto;\n",
    "        padding: 20px;\n",
    "      }}\n",
    "      .header {{\n",
    "        text-align: center;\n",
    "        margin-bottom: 20px;\n",
    "      }}\n",
    "      .header img {{\n",
    "        max-width: 100%;\n",
    "        height: auto;\n",
    "      }}\n",
    "      .content {{\n",
    "        padding: 20px;\n",
    "        text-align: center;\n",
    "        background-color: #ffffff;\n",
    "        border-radius: 5px;\n",
    "      }}\n",
    "      .content h2 {{\n",
    "        color: #333333;\n",
    "        margin-bottom: 20px;\n",
    "      }}\n",
    "      .content p {{\n",
    "        color: #666666;\n",
    "        margin-bottom: 20px;\n",
    "      }}\n",
    "      .button {{\n",
    "        display: inline-block;\n",
    "        padding: 10px 20px;\n",
    "        background-color: #007bff;\n",
    "        color: #ffffff;\n",
    "        text-decoration: none;\n",
    "        border-radius: 5px;\n",
    "      }}\n",
    "      .footer {{\n",
    "        text-align: center;\n",
    "        margin-top: 20px;\n",
    "        color: #999999;\n",
    "      }}\n",
    "    </style>\n",
    "    </head>\n",
    "    <body>\n",
    "    <div class=\"container\">\n",
    "      <div class=\"header\">\n",
    "        <img src=\"https://example.com/logo.png\" alt=\"Company Logo\">\n",
    "      </div>\n",
    "      <div class=\"content\">\n",
    "        <h2>Exclusive Offer Inside!</h2>\n",
    "        <p>Dear {name},</p>\n",
    "        <p>We are excited to announce a special promotion just for you. For a limited time only, enjoy incredible discounts on our latest products. Don't miss out on this opportunity!</p>\n",
    "        <a href=\"https://example.com/offer\" class=\"button\">Shop Now</a>\n",
    "      </div>\n",
    "      <div class=\"footer\">\n",
    "        <p>If you have any questions, feel free to contact us at <a href=\"info@example.com\">info@example.com</a>.</p>\n",
    "        <p>You are receiving this email because you subscribed to our newsletter. <a href=\"https://example.com/unsubscribe\">Unsubscribe</a> if you no longer wish to receive our emails.</p>\n",
    "      </div>\n",
    "    </div>\n",
    "    </body>\n",
    "    </html>\n",
    "    \"\"\"\n",
    "\n",
    "    # Attach HTML content as MIMEText\n",
    "    html_part = MIMEText(html_content, 'html')\n",
    "    message.attach(html_part)\n",
    "\n",
    "    # Send mail\n",
    "    mail_server.sendmail(my_email, email, message.as_string())"
   ]
  }
 ],
 "metadata": {
  "kernelspec": {
   "display_name": "Python 3 (ipykernel)",
   "language": "python",
   "name": "python3"
  },
  "language_info": {
   "codemirror_mode": {
    "name": "ipython",
    "version": 3
   },
   "file_extension": ".py",
   "mimetype": "text/x-python",
   "name": "python",
   "nbconvert_exporter": "python",
   "pygments_lexer": "ipython3",
   "version": "3.11.5"
  }
 },
 "nbformat": 4,
 "nbformat_minor": 5
}
