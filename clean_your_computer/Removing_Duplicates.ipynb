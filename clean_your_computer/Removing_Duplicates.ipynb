{
 "cells": [
  {
   "cell_type": "markdown",
   "id": "0bafef83-1ebb-4472-9e14-77bd51af6add",
   "metadata": {},
   "source": [
    "# Clean Your Computer"
   ]
  },
  {
   "cell_type": "markdown",
   "id": "c56159e9-feb6-478e-bc84-936ca6bb5457",
   "metadata": {},
   "source": [
    "## Removing Duplicates"
   ]
  },
  {
   "cell_type": "code",
   "execution_count": 17,
   "id": "c2f98dec-8a0a-481b-a3dc-a67a805f15ff",
   "metadata": {},
   "outputs": [],
   "source": [
    "import os\n",
    "import re\n",
    "from matplotlib.ticker import EngFormatter"
   ]
  },
  {
   "cell_type": "code",
   "execution_count": 18,
   "id": "0b7a07fa-d1c4-4ee8-b3a1-a048c8d41585",
   "metadata": {},
   "outputs": [],
   "source": [
    "fmt = EngFormatter('B')"
   ]
  },
  {
   "cell_type": "code",
   "execution_count": 21,
   "id": "b97e8cee-7e86-40c1-8594-084f7eb7543c",
   "metadata": {},
   "outputs": [],
   "source": [
    "def remove_duplicates(directory):\n",
    "    print(f\"\\nCleaning directory : {directory}...\")\n",
    "    \n",
    "    space_cleaned = 0\n",
    "    for dirpath, dirnames, filenames in os.walk(directory):\n",
    "        filenames_dict = {}\n",
    "        for filename in filenames:\n",
    "            file_path = os.path.join(dirpath, filename)\n",
    "    \n",
    "            # Check if file is a duplicate\n",
    "            match = re.search(r'^(.*?)\\(?(\\d+)?\\)?(\\.[^.]*)?$', filename)\n",
    "    \n",
    "            if match:\n",
    "                base_file_name = match.group(1)\n",
    "                number_inside_parenthesis = int(match.group(2) or \"-1\")\n",
    "                extension = match.group(3) or ''\n",
    "                last_modified = os.path.getmtime(file_path)\n",
    "                size = os.path.getsize(file_path)\n",
    "    \n",
    "                if base_file_name.strip() in filenames_dict:\n",
    "                    filenames_dict[base_file_name.strip()].append((number_inside_parenthesis, file_path, last_modified, size))\n",
    "                else :\n",
    "                    filenames_dict[base_file_name.strip()] = [(number_inside_parenthesis, file_path, last_modified, size)]\n",
    "    \n",
    "        for name in filenames_dict:\n",
    "            files = filenames_dict[name]\n",
    "            files.sort(key= lambda x: x[2])\n",
    "            more_recent_duplicate = files[-1]\n",
    "    \n",
    "            # Remove other duplicates except this latter\n",
    "            for number, _file_path, _, file_size in files[:-1]:\n",
    "                print(files[:-1])\n",
    "                print(f\"Removing {_file_path}\")\n",
    "                os.remove(_file_path)\n",
    "                space_cleaned += file_size\n",
    "                print(f\"Deleted file {_file_path} successfully !\")\n",
    "\n",
    "            # Rename the most recent duplicate left\n",
    "            os.rename(more_recent_duplicate[1], os.path.join(dirpath, f\"{base_file_name}{extension}\"))\n",
    "\n",
    "            \n",
    "        # Recursively call the function for subdirectories\n",
    "        for subdir in dirnames:\n",
    "            subdir_path = os.path.join(dirpath, subdir)\n",
    "            space_cleaned += remove_duplicates(subdir_path)\n",
    "        \n",
    "    return space_cleaned\n",
    "            "
   ]
  },
  {
   "cell_type": "code",
   "execution_count": null,
   "id": "66b7bb5e-4bdd-436b-ae34-274ed814b230",
   "metadata": {},
   "outputs": [],
   "source": [
    "print(f\"Saved {fmt(remove_duplicates('path/to/folder/'))} !\")"
   ]
  }
 ],
 "metadata": {
  "kernelspec": {
   "display_name": "Python 3 (ipykernel)",
   "language": "python",
   "name": "python3"
  },
  "language_info": {
   "codemirror_mode": {
    "name": "ipython",
    "version": 3
   },
   "file_extension": ".py",
   "mimetype": "text/x-python",
   "name": "python",
   "nbconvert_exporter": "python",
   "pygments_lexer": "ipython3",
   "version": "3.11.5"
  }
 },
 "nbformat": 4,
 "nbformat_minor": 5
}
