{
 "cells": [
  {
   "cell_type": "markdown",
   "id": "c612445b-c3b0-4118-8827-576fab61ab90",
   "metadata": {},
   "source": [
    "# Clean Your Computer"
   ]
  },
  {
   "cell_type": "markdown",
   "id": "c3d93bdf-5e35-478a-8c9b-b56cbbb772e9",
   "metadata": {},
   "source": [
    "## Organize your Download folder !"
   ]
  },
  {
   "cell_type": "code",
   "execution_count": 70,
   "id": "831e62c9-c8f1-4335-ba3a-ed4fd6618fbd",
   "metadata": {},
   "outputs": [],
   "source": [
    "import os\n",
    "import re\n",
    "import shutil"
   ]
  },
  {
   "cell_type": "code",
   "execution_count": 71,
   "id": "9b16f2c4-094e-4497-92a5-77ce50c53e97",
   "metadata": {},
   "outputs": [],
   "source": [
    "downloads_dir = os.path.expanduser(\"~/Downloads\")\n",
    "# Regular Expression used to capture the extension\n",
    "file_extension_pattern = r\"\\.([^.\\\\/:*?\\\"<>|\\r\\n]+)$\""
   ]
  },
  {
   "cell_type": "code",
   "execution_count": 72,
   "id": "d4ca4b8e-1d17-4fd1-8efe-b81444143307",
   "metadata": {},
   "outputs": [],
   "source": [
    "# Create a dictionary per pre-defined file type(s)\n",
    "file_types = {\n",
    "    \"Images\": [\"jpg\", \"jpeg\", \"png\", \"PNG\", \"gif\", \"tiff\", \"bmp\", \"jfif\", \"svg\", \"ico\"],\n",
    "    \"Codes\": [\"ipynb\",\"py\", \"ts\", \"js\", \"html\", \"css\", \"java\", \"whl\"],\n",
    "    \"Documents\": [\"pdf\", \"doc\", \"docx\", \"txt\", \"rtf\", \"csv\", \"xls\", \"xlsx\", \"ppt\", \"pptx\", \"zip\", \"tgz\"],\n",
    "    \"Audios\": [\"mp3\", \"wav\"],\n",
    "    \"Videos\": [\"mp4\", \"avi\", \"mov\", \"flv\", \"wmv\", \"mpeg\"],\n",
    "}\n",
    "\n",
    "# Optional - defined a sub-granularity for Documents\n",
    "document_types = {\n",
    "    \"PDF\" : [\"pdf\"],\n",
    "    \"Word\" : [\"doc\", \"docx\"],\n",
    "    \"Excel\" : [\"csv\", \"xls\", \"xlsx\"],\n",
    "    \"PowerPoint\" : [\"ppt\", \"pptx\"],\n",
    "}"
   ]
  },
  {
   "cell_type": "code",
   "execution_count": 75,
   "id": "35b7b6f7-557f-4bac-aefc-eb734322b637",
   "metadata": {},
   "outputs": [],
   "source": [
    "# Create the folders for each file type\n",
    "for folder_name in file_types.keys():\n",
    "    folder_path = os.path.join(downloads_dir, folder_name)\n",
    "    if not os.path.exists(folder_path):\n",
    "        os.makedirs(folder_path)\n",
    "\n",
    "# Create the subfolders for each file type\n",
    "for folder_name in document_types.keys():\n",
    "    folder_path = os.path.join(os.path.join(downloads_dir, \"Documents\"), folder_name)\n",
    "    if not os.path.exists(folder_path):\n",
    "        os.makedirs(folder_path)"
   ]
  },
  {
   "cell_type": "code",
   "execution_count": 80,
   "id": "2df2f1f1-9fdf-4d3b-ada0-8d853b7af16a",
   "metadata": {},
   "outputs": [
    {
     "name": "stdout",
     "output_type": "stream",
     "text": [
      "Files successfully moved !\n"
     ]
    }
   ],
   "source": [
    "\n",
    "# Iterate over the files in the Download folder\n",
    "for filename in os.listdir(downloads_dir):\n",
    "    file_path = os.path.join(downloads_dir, filename)\n",
    "    match = re.search(file_extension_pattern, filename)\n",
    "    if match:\n",
    "        file_extension = match.group(1)\n",
    "        target_dir = None\n",
    "        for file_type, extensions in file_types.items():\n",
    "            if file_extension in extensions:\n",
    "                if file_type == \"Documents\":\n",
    "                    for doc_type, doc_extensions in document_types.items():\n",
    "                        if file_extension in doc_extensions:\n",
    "                            target_dir = os.path.join(downloads_dir, file_type, doc_type)\n",
    "                        else:\n",
    "                            target_dir = os.path.join(downloads_dir, file_type)\n",
    "                else:\n",
    "                    target_dir = os.path.join(downloads_dir, file_type)\n",
    "        if target_dir:\n",
    "            if not os.path.exists(target_dir):\n",
    "                os.makedirs(target_dir)\n",
    "            shutil.move(file_path, os.path.join(target_dir, filename))\n",
    "            print(f\"Moved {filename} to {os.path.join(target_dir, filename)}\")\n",
    "            \n",
    "print(\"Files successfully moved !\")"
   ]
  }
 ],
 "metadata": {
  "kernelspec": {
   "display_name": "Python 3 (ipykernel)",
   "language": "python",
   "name": "python3"
  },
  "language_info": {
   "codemirror_mode": {
    "name": "ipython",
    "version": 3
   },
   "file_extension": ".py",
   "mimetype": "text/x-python",
   "name": "python",
   "nbconvert_exporter": "python",
   "pygments_lexer": "ipython3",
   "version": "3.11.5"
  }
 },
 "nbformat": 4,
 "nbformat_minor": 5
}
